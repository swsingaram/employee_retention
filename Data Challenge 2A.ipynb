{
 "cells": [
  {
   "cell_type": "markdown",
   "metadata": {},
   "source": [
    "# Data Challenge 2A : Employee Retention\n",
    "## Surendra Walter Singaram"
   ]
  },
  {
   "cell_type": "markdown",
   "metadata": {},
   "source": [
    "### Introduction\n",
    "\n",
    "Employee turn-over is a very costly problem for companies. The cost of replacing an employee if often larger than 100K USD, taking into account the time spent to interview and find a replacement, placement fees, sign-on bonuses and the loss of productivity for several months. It is only natural then that data science has started being applied to this area. Understanding why and when employees are most likely to leave can lead to actions to improve employee\n",
    "retention as well as planning new hiring in advance.\n",
    "\n",
    "In this challenge, we will uncover the key drivers for employee churn by predicting when an employee is likely to terminate.  We got employee data from a few companies. We have data about all employees who joined from 2011/01/24 to 2015/12/13. For each employee, we also know if they are still at the company as of 2015/12/13 or they have quit. Beside that, we have general info about the employee, such as avg salary during her tenure, dept, and yrs of experience. As said above, the goal is to predict employee retention and understand its main drivers.\n",
    "\n",
    "We will assume for each company, that the headcount starts from zero on 2011/01/23. We will estimate employee headcount, for each company, on each day, from 2011/01/24 to 2015/12/13. That is, if by 2012/03/02 2000 people have joined company 1 and 1000 of them have already quit, then company headcount on 2012/03/02 for company 1 would be 1000. You should create a table with 3 columns: day, employee_headcount, company_id.\n",
    "\n",
    "What are the main factors that drive employee churn? Do they make sense? Explain your\n",
    "findings.\n",
    "If you could add to this data set just one variable that could help explain employee churn,\n",
    "what would that be? "
   ]
  },
  {
   "cell_type": "markdown",
   "metadata": {},
   "source": [
    "### Data\n",
    "\n",
    "The data contains 35,000 entries about the employees: we know which company they work for, which department they work in, their average annual salary, how many years they've worked before starting thier current position, their start date and their termination date.  The data was collected over four years, from 2011/01/24 to 2015/12/13. (The termination date is 'NaN' for an employee still working for the company after the study ended). "
   ]
  },
  {
   "cell_type": "markdown",
   "metadata": {},
   "source": [
    "### My recommendations\n",
    "\n",
    "To analyze employee retention, I used survival analysis based on the [Meir-Kaplan estimator](https://en.wikipedia.org/wiki/Kaplan%E2%80%93Meier_estimator) and the [Cox's proportional hazards model](https://en.wikipedia.org/wiki/Proportional_hazards_model).  I found 40% of employees leave after the first year, across all companies and departments; another drop in employment occurs, though less dramatic, after the second year; we should expect to see an increase in employee retention if we can hold on to employees during these tenuous moments.\n",
    "\n",
    "The drivers for retention, average salary and seniority, depend on department.  For example, seniority in the data science department will lead to longer retention, but in the marketing department it will have the opposite effect.\n",
    "\n",
    "Average salary is a misleading feature because an employee's salary will change over their tenure.  I could build a better model if I had the employee's salary over time."
   ]
  },
  {
   "cell_type": "code",
   "execution_count": 1,
   "metadata": {},
   "outputs": [],
   "source": [
    "import pandas as pd\n",
    "import matplotlib.pyplot as plt\n",
    "import numpy as np\n",
    "import datetime"
   ]
  },
  {
   "cell_type": "markdown",
   "metadata": {},
   "source": [
    "### Data Cleaning"
   ]
  },
  {
   "cell_type": "code",
   "execution_count": 2,
   "metadata": {},
   "outputs": [],
   "source": [
    "employee_data = pd.read_csv(\"./Data Challenge 2A/employee_retention.txt\",index_col=0)"
   ]
  },
  {
   "cell_type": "code",
   "execution_count": 3,
   "metadata": {},
   "outputs": [],
   "source": [
    "employee_data_copy = employee_data.copy()"
   ]
  },
  {
   "cell_type": "code",
   "execution_count": 4,
   "metadata": {},
   "outputs": [],
   "source": [
    "employee_data_copy[\"join_date\"] = pd.to_datetime(employee_data[\"join_date\"])\n",
    "employee_data_copy[\"quit_date\"] = pd.to_datetime(employee_data[\"quit_date\"])"
   ]
  },
  {
   "cell_type": "code",
   "execution_count": 5,
   "metadata": {},
   "outputs": [],
   "source": [
    "employee_data_copy[\"length of employment (months)\"] = employee_data_copy[\"quit_date\"] - employee_data_copy[\"join_date\"]"
   ]
  },
  {
   "cell_type": "code",
   "execution_count": 6,
   "metadata": {},
   "outputs": [],
   "source": [
    "employee_data_copy[\"length of employment (months)\"] = employee_data_copy[\"length of employment (months)\"]/np.timedelta64(1,'M')"
   ]
  },
  {
   "cell_type": "markdown",
   "metadata": {},
   "source": [
    "Some employees are missing salaries and many are still employed, leading to NaN values for length of employment"
   ]
  },
  {
   "cell_type": "code",
   "execution_count": 9,
   "metadata": {},
   "outputs": [
    {
     "data": {
      "text/html": [
       "<div>\n",
       "<style scoped>\n",
       "    .dataframe tbody tr th:only-of-type {\n",
       "        vertical-align: middle;\n",
       "    }\n",
       "\n",
       "    .dataframe tbody tr th {\n",
       "        vertical-align: top;\n",
       "    }\n",
       "\n",
       "    .dataframe thead th {\n",
       "        text-align: right;\n",
       "    }\n",
       "</style>\n",
       "<table border=\"1\" class=\"dataframe\">\n",
       "  <thead>\n",
       "    <tr style=\"text-align: right;\">\n",
       "      <th></th>\n",
       "      <th>employee_id</th>\n",
       "      <th>company_id</th>\n",
       "      <th>dept</th>\n",
       "      <th>seniority</th>\n",
       "      <th>salary</th>\n",
       "      <th>join_date</th>\n",
       "      <th>quit_date</th>\n",
       "      <th>length of employment (months)</th>\n",
       "      <th>event</th>\n",
       "    </tr>\n",
       "  </thead>\n",
       "  <tbody>\n",
       "    <tr>\n",
       "      <th>0</th>\n",
       "      <td>1001444.0</td>\n",
       "      <td>8</td>\n",
       "      <td>temp_contractor</td>\n",
       "      <td>0</td>\n",
       "      <td>5850.0</td>\n",
       "      <td>2008-01-26</td>\n",
       "      <td>2008-04-25</td>\n",
       "      <td>2.956940</td>\n",
       "      <td>1</td>\n",
       "    </tr>\n",
       "    <tr>\n",
       "      <th>1</th>\n",
       "      <td>388804.0</td>\n",
       "      <td>8</td>\n",
       "      <td>design</td>\n",
       "      <td>21</td>\n",
       "      <td>191000.0</td>\n",
       "      <td>2011-05-17</td>\n",
       "      <td>2012-03-16</td>\n",
       "      <td>9.987885</td>\n",
       "      <td>1</td>\n",
       "    </tr>\n",
       "    <tr>\n",
       "      <th>2</th>\n",
       "      <td>407990.0</td>\n",
       "      <td>3</td>\n",
       "      <td>design</td>\n",
       "      <td>9</td>\n",
       "      <td>90000.0</td>\n",
       "      <td>2012-03-26</td>\n",
       "      <td>2015-04-10</td>\n",
       "      <td>36.468921</td>\n",
       "      <td>1</td>\n",
       "    </tr>\n",
       "    <tr>\n",
       "      <th>3</th>\n",
       "      <td>120657.0</td>\n",
       "      <td>2</td>\n",
       "      <td>engineer</td>\n",
       "      <td>20</td>\n",
       "      <td>298000.0</td>\n",
       "      <td>2013-04-08</td>\n",
       "      <td>2015-01-30</td>\n",
       "      <td>21.749933</td>\n",
       "      <td>1</td>\n",
       "    </tr>\n",
       "    <tr>\n",
       "      <th>4</th>\n",
       "      <td>1006393.0</td>\n",
       "      <td>1</td>\n",
       "      <td>temp_contractor</td>\n",
       "      <td>0</td>\n",
       "      <td>8509.0</td>\n",
       "      <td>2008-07-20</td>\n",
       "      <td>2008-10-18</td>\n",
       "      <td>2.956940</td>\n",
       "      <td>1</td>\n",
       "    </tr>\n",
       "    <tr>\n",
       "      <th>5</th>\n",
       "      <td>287530.0</td>\n",
       "      <td>5</td>\n",
       "      <td>marketing</td>\n",
       "      <td>20</td>\n",
       "      <td>180000.0</td>\n",
       "      <td>2014-06-30</td>\n",
       "      <td>NaT</td>\n",
       "      <td>NaN</td>\n",
       "      <td>0</td>\n",
       "    </tr>\n",
       "    <tr>\n",
       "      <th>6</th>\n",
       "      <td>561043.0</td>\n",
       "      <td>3</td>\n",
       "      <td>customer_service</td>\n",
       "      <td>18</td>\n",
       "      <td>119000.0</td>\n",
       "      <td>2012-07-02</td>\n",
       "      <td>2014-03-28</td>\n",
       "      <td>20.829997</td>\n",
       "      <td>1</td>\n",
       "    </tr>\n",
       "    <tr>\n",
       "      <th>7</th>\n",
       "      <td>702479.0</td>\n",
       "      <td>7</td>\n",
       "      <td>data_science</td>\n",
       "      <td>7</td>\n",
       "      <td>140000.0</td>\n",
       "      <td>2011-12-27</td>\n",
       "      <td>2013-08-30</td>\n",
       "      <td>20.107189</td>\n",
       "      <td>1</td>\n",
       "    </tr>\n",
       "    <tr>\n",
       "      <th>8</th>\n",
       "      <td>545690.0</td>\n",
       "      <td>10</td>\n",
       "      <td>data_science</td>\n",
       "      <td>16</td>\n",
       "      <td>238000.0</td>\n",
       "      <td>2013-12-23</td>\n",
       "      <td>NaT</td>\n",
       "      <td>NaN</td>\n",
       "      <td>0</td>\n",
       "    </tr>\n",
       "    <tr>\n",
       "      <th>9</th>\n",
       "      <td>622587.0</td>\n",
       "      <td>5</td>\n",
       "      <td>sales</td>\n",
       "      <td>28</td>\n",
       "      <td>166000.0</td>\n",
       "      <td>2015-07-01</td>\n",
       "      <td>NaT</td>\n",
       "      <td>NaN</td>\n",
       "      <td>0</td>\n",
       "    </tr>\n",
       "  </tbody>\n",
       "</table>\n",
       "</div>"
      ],
      "text/plain": [
       "   employee_id  company_id              dept  seniority    salary  join_date  \\\n",
       "0    1001444.0           8   temp_contractor          0    5850.0 2008-01-26   \n",
       "1     388804.0           8            design         21  191000.0 2011-05-17   \n",
       "2     407990.0           3            design          9   90000.0 2012-03-26   \n",
       "3     120657.0           2          engineer         20  298000.0 2013-04-08   \n",
       "4    1006393.0           1   temp_contractor          0    8509.0 2008-07-20   \n",
       "5     287530.0           5         marketing         20  180000.0 2014-06-30   \n",
       "6     561043.0           3  customer_service         18  119000.0 2012-07-02   \n",
       "7     702479.0           7      data_science          7  140000.0 2011-12-27   \n",
       "8     545690.0          10      data_science         16  238000.0 2013-12-23   \n",
       "9     622587.0           5             sales         28  166000.0 2015-07-01   \n",
       "\n",
       "   quit_date  length of employment (months)  event  \n",
       "0 2008-04-25                       2.956940      1  \n",
       "1 2012-03-16                       9.987885      1  \n",
       "2 2015-04-10                      36.468921      1  \n",
       "3 2015-01-30                      21.749933      1  \n",
       "4 2008-10-18                       2.956940      1  \n",
       "5        NaT                            NaN      0  \n",
       "6 2014-03-28                      20.829997      1  \n",
       "7 2013-08-30                      20.107189      1  \n",
       "8        NaT                            NaN      0  \n",
       "9        NaT                            NaN      0  "
      ]
     },
     "execution_count": 9,
     "metadata": {},
     "output_type": "execute_result"
    }
   ],
   "source": [
    "employee_data_copy.head(10)"
   ]
  },
  {
   "cell_type": "markdown",
   "metadata": {},
   "source": [
    "Let's censor the data by using the last day of the study as the termination date for employees that were employed when the study ended"
   ]
  },
  {
   "cell_type": "code",
   "execution_count": 8,
   "metadata": {},
   "outputs": [],
   "source": [
    "#termination event occured before observation period ended == 1 (not censored)\n",
    "#termination event did not occur before observation period ended == 0 (censored)\n",
    "employee_data_copy[\"event\"] = np.where(np.isnan(employee_data_copy[\"length of employment (months)\"]),0,1) "
   ]
  },
  {
   "cell_type": "code",
   "execution_count": 12,
   "metadata": {},
   "outputs": [],
   "source": [
    "employee_data_copy[\"event_bool\"] = employee_data_copy[\"event\"].astype('bool')"
   ]
  },
  {
   "cell_type": "code",
   "execution_count": 10,
   "metadata": {},
   "outputs": [],
   "source": [
    "employee_data_copy[\"quit_date\"].fillna(datetime.datetime(2015,12,13),inplace=True)"
   ]
  },
  {
   "cell_type": "markdown",
   "metadata": {},
   "source": [
    "Let's scale the salary down so that its values are on the same order of magnitude as other numeric data"
   ]
  },
  {
   "cell_type": "code",
   "execution_count": 11,
   "metadata": {},
   "outputs": [],
   "source": [
    "employee_data_copy[\"salary\"] = employee_data_copy[\"salary\"]/10000.0"
   ]
  },
  {
   "cell_type": "code",
   "execution_count": 15,
   "metadata": {},
   "outputs": [
    {
     "data": {
      "text/html": [
       "<div>\n",
       "<style scoped>\n",
       "    .dataframe tbody tr th:only-of-type {\n",
       "        vertical-align: middle;\n",
       "    }\n",
       "\n",
       "    .dataframe tbody tr th {\n",
       "        vertical-align: top;\n",
       "    }\n",
       "\n",
       "    .dataframe thead th {\n",
       "        text-align: right;\n",
       "    }\n",
       "</style>\n",
       "<table border=\"1\" class=\"dataframe\">\n",
       "  <thead>\n",
       "    <tr style=\"text-align: right;\">\n",
       "      <th></th>\n",
       "      <th>employee_id</th>\n",
       "      <th>company_id</th>\n",
       "      <th>dept</th>\n",
       "      <th>seniority</th>\n",
       "      <th>salary</th>\n",
       "      <th>join_date</th>\n",
       "      <th>quit_date</th>\n",
       "      <th>length of employment (months)</th>\n",
       "      <th>event</th>\n",
       "      <th>event_bool</th>\n",
       "    </tr>\n",
       "  </thead>\n",
       "  <tbody>\n",
       "    <tr>\n",
       "      <th>0</th>\n",
       "      <td>1001444.0</td>\n",
       "      <td>8</td>\n",
       "      <td>temp_contractor</td>\n",
       "      <td>0</td>\n",
       "      <td>0.5850</td>\n",
       "      <td>2008-01-26</td>\n",
       "      <td>2008-04-25</td>\n",
       "      <td>2.956940</td>\n",
       "      <td>1</td>\n",
       "      <td>True</td>\n",
       "    </tr>\n",
       "    <tr>\n",
       "      <th>1</th>\n",
       "      <td>388804.0</td>\n",
       "      <td>8</td>\n",
       "      <td>design</td>\n",
       "      <td>21</td>\n",
       "      <td>19.1000</td>\n",
       "      <td>2011-05-17</td>\n",
       "      <td>2012-03-16</td>\n",
       "      <td>9.987885</td>\n",
       "      <td>1</td>\n",
       "      <td>True</td>\n",
       "    </tr>\n",
       "    <tr>\n",
       "      <th>2</th>\n",
       "      <td>407990.0</td>\n",
       "      <td>3</td>\n",
       "      <td>design</td>\n",
       "      <td>9</td>\n",
       "      <td>9.0000</td>\n",
       "      <td>2012-03-26</td>\n",
       "      <td>2015-04-10</td>\n",
       "      <td>36.468921</td>\n",
       "      <td>1</td>\n",
       "      <td>True</td>\n",
       "    </tr>\n",
       "    <tr>\n",
       "      <th>3</th>\n",
       "      <td>120657.0</td>\n",
       "      <td>2</td>\n",
       "      <td>engineer</td>\n",
       "      <td>20</td>\n",
       "      <td>29.8000</td>\n",
       "      <td>2013-04-08</td>\n",
       "      <td>2015-01-30</td>\n",
       "      <td>21.749933</td>\n",
       "      <td>1</td>\n",
       "      <td>True</td>\n",
       "    </tr>\n",
       "    <tr>\n",
       "      <th>4</th>\n",
       "      <td>1006393.0</td>\n",
       "      <td>1</td>\n",
       "      <td>temp_contractor</td>\n",
       "      <td>0</td>\n",
       "      <td>0.8509</td>\n",
       "      <td>2008-07-20</td>\n",
       "      <td>2008-10-18</td>\n",
       "      <td>2.956940</td>\n",
       "      <td>1</td>\n",
       "      <td>True</td>\n",
       "    </tr>\n",
       "    <tr>\n",
       "      <th>5</th>\n",
       "      <td>287530.0</td>\n",
       "      <td>5</td>\n",
       "      <td>marketing</td>\n",
       "      <td>20</td>\n",
       "      <td>18.0000</td>\n",
       "      <td>2014-06-30</td>\n",
       "      <td>2015-12-13</td>\n",
       "      <td>17.445943</td>\n",
       "      <td>0</td>\n",
       "      <td>False</td>\n",
       "    </tr>\n",
       "    <tr>\n",
       "      <th>6</th>\n",
       "      <td>561043.0</td>\n",
       "      <td>3</td>\n",
       "      <td>customer_service</td>\n",
       "      <td>18</td>\n",
       "      <td>11.9000</td>\n",
       "      <td>2012-07-02</td>\n",
       "      <td>2014-03-28</td>\n",
       "      <td>20.829997</td>\n",
       "      <td>1</td>\n",
       "      <td>True</td>\n",
       "    </tr>\n",
       "    <tr>\n",
       "      <th>7</th>\n",
       "      <td>702479.0</td>\n",
       "      <td>7</td>\n",
       "      <td>data_science</td>\n",
       "      <td>7</td>\n",
       "      <td>14.0000</td>\n",
       "      <td>2011-12-27</td>\n",
       "      <td>2013-08-30</td>\n",
       "      <td>20.107189</td>\n",
       "      <td>1</td>\n",
       "      <td>True</td>\n",
       "    </tr>\n",
       "    <tr>\n",
       "      <th>8</th>\n",
       "      <td>545690.0</td>\n",
       "      <td>10</td>\n",
       "      <td>data_science</td>\n",
       "      <td>16</td>\n",
       "      <td>23.8000</td>\n",
       "      <td>2013-12-23</td>\n",
       "      <td>2015-12-13</td>\n",
       "      <td>23.655517</td>\n",
       "      <td>0</td>\n",
       "      <td>False</td>\n",
       "    </tr>\n",
       "    <tr>\n",
       "      <th>9</th>\n",
       "      <td>622587.0</td>\n",
       "      <td>5</td>\n",
       "      <td>sales</td>\n",
       "      <td>28</td>\n",
       "      <td>16.6000</td>\n",
       "      <td>2015-07-01</td>\n",
       "      <td>2015-12-13</td>\n",
       "      <td>5.421056</td>\n",
       "      <td>0</td>\n",
       "      <td>False</td>\n",
       "    </tr>\n",
       "  </tbody>\n",
       "</table>\n",
       "</div>"
      ],
      "text/plain": [
       "   employee_id  company_id              dept  seniority   salary  join_date  \\\n",
       "0    1001444.0           8   temp_contractor          0   0.5850 2008-01-26   \n",
       "1     388804.0           8            design         21  19.1000 2011-05-17   \n",
       "2     407990.0           3            design          9   9.0000 2012-03-26   \n",
       "3     120657.0           2          engineer         20  29.8000 2013-04-08   \n",
       "4    1006393.0           1   temp_contractor          0   0.8509 2008-07-20   \n",
       "5     287530.0           5         marketing         20  18.0000 2014-06-30   \n",
       "6     561043.0           3  customer_service         18  11.9000 2012-07-02   \n",
       "7     702479.0           7      data_science          7  14.0000 2011-12-27   \n",
       "8     545690.0          10      data_science         16  23.8000 2013-12-23   \n",
       "9     622587.0           5             sales         28  16.6000 2015-07-01   \n",
       "\n",
       "   quit_date  length of employment (months)  event  event_bool  \n",
       "0 2008-04-25                       2.956940      1        True  \n",
       "1 2012-03-16                       9.987885      1        True  \n",
       "2 2015-04-10                      36.468921      1        True  \n",
       "3 2015-01-30                      21.749933      1        True  \n",
       "4 2008-10-18                       2.956940      1        True  \n",
       "5 2015-12-13                      17.445943      0       False  \n",
       "6 2014-03-28                      20.829997      1        True  \n",
       "7 2013-08-30                      20.107189      1        True  \n",
       "8 2015-12-13                      23.655517      0       False  \n",
       "9 2015-12-13                       5.421056      0       False  "
      ]
     },
     "execution_count": 15,
     "metadata": {},
     "output_type": "execute_result"
    }
   ],
   "source": [
    "employee_data_copy.head(10)"
   ]
  },
  {
   "cell_type": "code",
   "execution_count": 14,
   "metadata": {},
   "outputs": [],
   "source": [
    "employee_data_copy[\"length of employment (months)\"] = employee_data_copy[\"quit_date\"] - employee_data_copy[\"join_date\"]\n",
    "employee_data_copy[\"length of employment (months)\"] = employee_data_copy[\"length of employment (months)\"]/np.timedelta64(1,'M')"
   ]
  },
  {
   "cell_type": "markdown",
   "metadata": {},
   "source": [
    "Let's have a look at the different types of employees"
   ]
  },
  {
   "cell_type": "code",
   "execution_count": 16,
   "metadata": {},
   "outputs": [],
   "source": [
    "employee_data_temp_contractor = employee_data_copy[employee_data_copy.dept == 'temp_contractor']\n",
    "employee_data_customer_service = employee_data_copy[employee_data_copy.dept == 'customer_service']\n",
    "employee_data_engineer = employee_data_copy[employee_data_copy.dept == 'engineer']\n",
    "employee_data_data_science = employee_data_copy[employee_data_copy.dept == 'data_science']\n",
    "employee_data_sales = employee_data_copy[employee_data_copy.dept == 'sales']\n",
    "employee_data_marketing = employee_data_copy[employee_data_copy.dept == 'marketing']\n",
    "employee_data_design = employee_data_copy[employee_data_copy.dept == 'design']"
   ]
  },
  {
   "cell_type": "markdown",
   "metadata": {},
   "source": [
    "Temporary contractors, although making up a third of the employees, only stay for 3 months so we will not include them in our analysis of employee retention, which is on the scale of years"
   ]
  },
  {
   "cell_type": "code",
   "execution_count": 32,
   "metadata": {},
   "outputs": [
    {
     "data": {
      "image/png": "[encoded data removed]",
      "text/plain": [
       "<Figure size 432x288 with 1 Axes>"
      ]
     },
     "metadata": {
      "needs_background": "light"
     },
     "output_type": "display_data"
    }
   ],
   "source": [
    "employee_data_temp_contractor[\"length of employment (months)\"].hist(grid=False,facecolor='w',edgecolor='k',lw=3.0);\n",
    "plt.xlabel(\"Length of Employment \\n (Months)\",fontsize=20);\n",
    "plt.xticks([2.5, 3.0, 3.5],fontsize=20);\n",
    "plt.yticks([0,10000],fontsize=20);\n",
    "plt.ylabel('Frequency',fontsize=20);"
   ]
  },
  {
   "cell_type": "code",
   "execution_count": 33,
   "metadata": {},
   "outputs": [
    {
     "data": {
      "text/html": [
       "<div>\n",
       "<style scoped>\n",
       "    .dataframe tbody tr th:only-of-type {\n",
       "        vertical-align: middle;\n",
       "    }\n",
       "\n",
       "    .dataframe tbody tr th {\n",
       "        vertical-align: top;\n",
       "    }\n",
       "\n",
       "    .dataframe thead th {\n",
       "        text-align: right;\n",
       "    }\n",
       "</style>\n",
       "<table border=\"1\" class=\"dataframe\">\n",
       "  <thead>\n",
       "    <tr style=\"text-align: right;\">\n",
       "      <th></th>\n",
       "      <th>job</th>\n",
       "      <th>median salary</th>\n",
       "    </tr>\n",
       "  </thead>\n",
       "  <tbody>\n",
       "    <tr>\n",
       "      <th>0</th>\n",
       "      <td>customer service</td>\n",
       "      <td>8.3</td>\n",
       "    </tr>\n",
       "    <tr>\n",
       "      <th>1</th>\n",
       "      <td>engineering</td>\n",
       "      <td>20.9</td>\n",
       "    </tr>\n",
       "    <tr>\n",
       "      <th>2</th>\n",
       "      <td>data science</td>\n",
       "      <td>20.9</td>\n",
       "    </tr>\n",
       "    <tr>\n",
       "      <th>3</th>\n",
       "      <td>sales</td>\n",
       "      <td>13.7</td>\n",
       "    </tr>\n",
       "    <tr>\n",
       "      <th>4</th>\n",
       "      <td>marketing</td>\n",
       "      <td>13.8</td>\n",
       "    </tr>\n",
       "    <tr>\n",
       "      <th>5</th>\n",
       "      <td>design</td>\n",
       "      <td>13.9</td>\n",
       "    </tr>\n",
       "  </tbody>\n",
       "</table>\n",
       "</div>"
      ],
      "text/plain": [
       "                job  median salary\n",
       "0  customer service            8.3\n",
       "1       engineering           20.9\n",
       "2      data science           20.9\n",
       "3             sales           13.7\n",
       "4         marketing           13.8\n",
       "5            design           13.9"
      ]
     },
     "execution_count": 33,
     "metadata": {},
     "output_type": "execute_result"
    }
   ],
   "source": [
    "pd.DataFrame({\"job\":[\"customer service\",\"engineering\",\"data science\",\"sales\",\"marketing\",\"design\"],\"median salary\":[employee_data_customer_service[\"salary\"].median(),\n",
    "employee_data_engineer[\"salary\"].median(),employee_data_data_science[\"salary\"].median(),employee_data_sales[\"salary\"].median(),employee_data_marketing[\"salary\"].median(),employee_data_design[\"salary\"].median()]})"
   ]
  },
  {
   "cell_type": "code",
   "execution_count": 34,
   "metadata": {},
   "outputs": [
    {
     "name": "stderr",
     "output_type": "stream",
     "text": [
      "/home/walter/software/anaconda3/envs/data_challenge_2/lib/python3.7/site-packages/pandas/core/generic.py:6130: SettingWithCopyWarning: \n",
      "A value is trying to be set on a copy of a slice from a DataFrame\n",
      "\n",
      "See the caveats in the documentation: http://pandas.pydata.org/pandas-docs/stable/indexing.html#indexing-view-versus-copy\n",
      "  self._update_inplace(new_data)\n"
     ]
    }
   ],
   "source": [
    "employee_data_customer_service[\"salary\"].fillna(8.3,inplace=True)\n",
    "employee_data_engineer[\"salary\"].fillna(20.9,inplace=True)\n",
    "employee_data_data_science[\"salary\"].fillna(20.9,inplace=True)\n",
    "employee_data_sales[\"salary\"].fillna(13.7,inplace=True)\n",
    "employee_data_marketing[\"salary\"].fillna(13.8,inplace=True)\n",
    "employee_data_design[\"salary\"].fillna(13.9,inplace=True)"
   ]
  },
  {
   "cell_type": "markdown",
   "metadata": {},
   "source": [
    "Let's create the data frame we'll use for analyzing employee retention"
   ]
  },
  {
   "cell_type": "code",
   "execution_count": 37,
   "metadata": {},
   "outputs": [],
   "source": [
    "employee_data_retention = pd.concat([employee_data_customer_service,employee_data_engineer,employee_data_data_science,employee_data_sales,employee_data_marketing,employee_data_design],ignore_index=True)"
   ]
  },
  {
   "cell_type": "code",
   "execution_count": 38,
   "metadata": {},
   "outputs": [],
   "source": [
    "employee_data_retention = employee_data_retention.sample(frac=1).reset_index(drop=True)"
   ]
  },
  {
   "cell_type": "markdown",
   "metadata": {},
   "source": [
    "Companies 11 and 12 only have 40 employees so we will ignore them in this analysis"
   ]
  },
  {
   "cell_type": "code",
   "execution_count": 39,
   "metadata": {},
   "outputs": [
    {
     "data": {
      "text/plain": [
       "1     9501\n",
       "2     5220\n",
       "3     3773\n",
       "4     3066\n",
       "5     2749\n",
       "6     2258\n",
       "7     2185\n",
       "8     2026\n",
       "9     2005\n",
       "10    1879\n",
       "12      24\n",
       "11      16\n",
       "Name: company_id, dtype: int64"
      ]
     },
     "execution_count": 39,
     "metadata": {},
     "output_type": "execute_result"
    }
   ],
   "source": [
    "employee_data[\"company_id\"].value_counts()"
   ]
  },
  {
   "cell_type": "markdown",
   "metadata": {},
   "source": [
    "### Computing the number of employees in each company"
   ]
  },
  {
   "cell_type": "code",
   "execution_count": 40,
   "metadata": {},
   "outputs": [],
   "source": [
    "start = datetime.datetime(2011,1,23)\n",
    "end = datetime.datetime(2015,12,13)\n",
    "datearray = (start + datetime.timedelta(days=x) for x in range(0,(end-start).days))"
   ]
  },
  {
   "cell_type": "markdown",
   "metadata": {},
   "source": [
    "Make a time series for every day between 2011/01/23 and 2015/12/13"
   ]
  },
  {
   "cell_type": "code",
   "execution_count": 41,
   "metadata": {},
   "outputs": [
    {
     "data": {
      "text/html": [
       "<div>\n",
       "<style scoped>\n",
       "    .dataframe tbody tr th:only-of-type {\n",
       "        vertical-align: middle;\n",
       "    }\n",
       "\n",
       "    .dataframe tbody tr th {\n",
       "        vertical-align: top;\n",
       "    }\n",
       "\n",
       "    .dataframe thead th {\n",
       "        text-align: right;\n",
       "    }\n",
       "</style>\n",
       "<table border=\"1\" class=\"dataframe\">\n",
       "  <thead>\n",
       "    <tr style=\"text-align: right;\">\n",
       "      <th></th>\n",
       "      <th>date</th>\n",
       "    </tr>\n",
       "  </thead>\n",
       "  <tbody>\n",
       "    <tr>\n",
       "      <th>0</th>\n",
       "      <td>2011-01-23</td>\n",
       "    </tr>\n",
       "    <tr>\n",
       "      <th>1</th>\n",
       "      <td>2011-01-24</td>\n",
       "    </tr>\n",
       "    <tr>\n",
       "      <th>2</th>\n",
       "      <td>2011-01-25</td>\n",
       "    </tr>\n",
       "    <tr>\n",
       "      <th>3</th>\n",
       "      <td>2011-01-26</td>\n",
       "    </tr>\n",
       "    <tr>\n",
       "      <th>4</th>\n",
       "      <td>2011-01-27</td>\n",
       "    </tr>\n",
       "  </tbody>\n",
       "</table>\n",
       "</div>"
      ],
      "text/plain": [
       "        date\n",
       "0 2011-01-23\n",
       "1 2011-01-24\n",
       "2 2011-01-25\n",
       "3 2011-01-26\n",
       "4 2011-01-27"
      ]
     },
     "execution_count": 41,
     "metadata": {},
     "output_type": "execute_result"
    }
   ],
   "source": [
    "headcount_template_df = pd.DataFrame(list(datearray))\n",
    "headcount_template_df.rename(columns={0:\"date\"},inplace=True)\n",
    "headcount_template_df.head()"
   ]
  },
  {
   "cell_type": "markdown",
   "metadata": {},
   "source": [
    "I made a class to help me do some of the repetitive data wrangling steps.  It will create a table with three columns: the date, the number of employees employed by the company, and the company id"
   ]
  },
  {
   "cell_type": "code",
   "execution_count": 43,
   "metadata": {},
   "outputs": [],
   "source": [
    "class Company:\n",
    "    \n",
    "    import pandas as pd\n",
    "    \n",
    "    def __init__(self, name,num, df,headcount_template):\n",
    "        self.name = name\n",
    "        self.num = num\n",
    "        self.df = df[df.company_id == num]\n",
    "        self.headcount = headcount_template\n",
    "        self.headcount[\"head count\"] = 0\n",
    "        self.headcount[\"company id\"] = num\n",
    "        \n",
    "        self.company_join = self.df[\"join_date\"].value_counts().to_frame()\n",
    "        self.company_join.reset_index(inplace=True)\n",
    "        self.company_join.rename(columns={\"index\":\"date\",\"join_date\":\"num joined\"},inplace=True)\n",
    "        \n",
    "        self.company_quit = self.df[\"quit_date\"].value_counts().to_frame()\n",
    "        self.company_quit.reset_index(inplace=True)\n",
    "        self.company_quit.rename(columns={\"index\":\"date\",\"quit_date\":\"num quit\"},inplace=True)\n",
    "                                 \n",
    "        self.headcount = pd.merge(self.headcount,self.company_join,how='left',on=['date'])\n",
    "        self.headcount = pd.merge(self.headcount,self.company_quit,how='left',on=['date'])\n",
    "                                 \n",
    "        self.headcount.fillna(0,inplace=True)\n",
    "        self.headcount[\"num add\"] = self.headcount[\"num joined\"] - self.headcount[\"num quit\"]\n",
    "        self.headcount[\"head count\"] = self.headcount[\"num add\"].cumsum()\n",
    "        \n",
    "        self.headcount.drop(columns=[\"num joined\",\"num quit\",\"num add\"],inplace=True)"
   ]
  },
  {
   "cell_type": "code",
   "execution_count": 44,
   "metadata": {},
   "outputs": [],
   "source": [
    "company_1 = Company(\"Company 1\",1,employee_data_copy,headcount_template_df)\n",
    "company_2 = Company(\"Company 2\",2,employee_data_copy,headcount_template_df)\n",
    "company_3 = Company(\"Company 3\",3,employee_data_copy,headcount_template_df)\n",
    "company_4 = Company(\"Company 4\",4,employee_data_copy,headcount_template_df)\n",
    "company_5 = Company(\"Company 5\",5,employee_data_copy,headcount_template_df)\n",
    "company_6 = Company(\"Company 6\",6,employee_data_copy,headcount_template_df)\n",
    "company_7 = Company(\"Company 7\",7,employee_data_copy,headcount_template_df)\n",
    "company_8 = Company(\"Company 8\",8,employee_data_copy,headcount_template_df)\n",
    "company_9 = Company(\"Company 9\",9,employee_data_copy,headcount_template_df)\n",
    "company_10 = Company(\"Company 10\",10,employee_data_copy,headcount_template_df)"
   ]
  },
  {
   "cell_type": "code",
   "execution_count": 79,
   "metadata": {},
   "outputs": [
    {
     "data": {
      "image/png": "[encoded data removed]",
      "text/plain": [
       "<Figure size 432x288 with 1 Axes>"
      ]
     },
     "metadata": {
      "needs_background": "light"
     },
     "output_type": "display_data"
    }
   ],
   "source": [
    "ax = plt.gca()\n",
    "company_1.headcount.plot(kind='line',x='date',y='head count',label=company_1.name,ax=ax);\n",
    "company_2.headcount.plot(kind='line',x='date',y='head count',label=company_2.name,ax=ax);\n",
    "company_3.headcount.plot(kind='line',x='date',y='head count',label=company_3.name,ax=ax);\n",
    "company_4.headcount.plot(kind='line',x='date',y='head count',label=company_4.name,ax=ax);\n",
    "company_5.headcount.plot(kind='line',x='date',y='head count',label=company_5.name,ax=ax);\n",
    "company_6.headcount.plot(kind='line',x='date',y='head count',label=company_6.name,ax=ax);\n",
    "company_7.headcount.plot(kind='line',x='date',y='head count',label=company_7.name,ax=ax);\n",
    "company_8.headcount.plot(kind='line',x='date',y='head count',label=company_8.name,ax=ax);\n",
    "company_9.headcount.plot(kind='line',x='date',y='head count',label=company_9.name,ax=ax);\n",
    "company_10.headcount.plot(kind='line',x='date',y='head count',label=company_10.name,ax=ax);\n",
    "ax.legend(loc='upper right', bbox_to_anchor= (1.5, 1.01), ncol=1, \n",
    "            borderaxespad=0, frameon=False,fontsize=15);\n",
    "ax.set_xlabel('Date',fontsize=20);\n",
    "plt.xticks(fontsize=20);\n",
    "ax.set_ylabel('# Employees',fontsize=20);\n",
    "plt.yticks([0,2000,4000],fontsize=20);"
   ]
  },
  {
   "cell_type": "markdown",
   "metadata": {},
   "source": [
    "Near the end of the study all the companies have reached a steady state!"
   ]
  },
  {
   "cell_type": "markdown",
   "metadata": {},
   "source": [
    "### The main drivers for employee retention"
   ]
  },
  {
   "cell_type": "markdown",
   "metadata": {},
   "source": [
    "In this section we will determine the main drivers for employee retention.  We will use survival analysis to calculate the probablility an employee will terminate -- this will be our measure for employee \"churn\".  Furthermore, the Meir-Kaplan model and its derivatives are well-suited to handle right-censored studies (i.e., studies that end before some employees terminate)."
   ]
  },
  {
   "cell_type": "code",
   "execution_count": 80,
   "metadata": {},
   "outputs": [],
   "source": [
    "class Department:\n",
    "    from sksurv.nonparametric import kaplan_meier_estimator\n",
    "    def __init__(self, name,df):\n",
    "        self.name = name\n",
    "        self.df = df\n",
    "        self.data_x = df[[\"seniority\",\"salary\"]]\n",
    "        self.data_y = df[[\"event_bool\",\"length of employment (months)\"]].to_records(index=False,column_dtypes={\"event_bool\":'?',\"length of employment (months)\":'<f8'})\n",
    "        self.times, self.employment_proba = kaplan_meier_estimator(df[\"event_bool\"],df[\"length of employment (months)\"])"
   ]
  },
  {
   "cell_type": "code",
   "execution_count": 82,
   "metadata": {},
   "outputs": [],
   "source": [
    "from sksurv.nonparametric import kaplan_meier_estimator"
   ]
  },
  {
   "cell_type": "markdown",
   "metadata": {},
   "source": [
    "The Meir-Kaplan model estimates the \"survival\" function, $\\hat{S}(t)$, which is the probability an employee will be employed after time $t$.  The \"hazard\" function, $h(t)$, is related to the conditional probability of still be in employed a short time later, given employment at time $t$, $P(\\text{employed in }[t,t+\\delta t] |\\text{employed after time }t) = \\dfrac{P(\\text{employed in }[t,t+\\delta t]}{P(\\text{employed after time t})} = -\\dfrac{\\hat{S}(t+\\delta t) - \\hat{S}(t)}{\\hat{S}(t)}$.\n",
    "More explicitly, $h(t)$ is the conditional probability density, so we divide both sides by $\\delta t$ to get\n",
    "$h(t) \\approx \\dfrac{-d \\ln \\hat{S}(t)}{dt}$ or equivalently, $\\hat{S}(t) = \\exp \\int -h(t)dt$."
   ]
  },
  {
   "cell_type": "code",
   "execution_count": 83,
   "metadata": {},
   "outputs": [],
   "source": [
    "#temp_contractor = Department(\"Temp. Contractor\", employee_data_temp_contractor)\n",
    "cust_service = Department(\"Customer Service\",employee_data_customer_service)\n",
    "engineer = Department(\"Engineering\",employee_data_engineer)\n",
    "data_science = Department(\"Data Science\",employee_data_data_science)\n",
    "sales = Department(\"Sales\", employee_data_sales)\n",
    "marketing = Department(\"Marketing\",employee_data_marketing)\n",
    "design = Department(\"Design\",employee_data_design)"
   ]
  },
  {
   "cell_type": "code",
   "execution_count": 114,
   "metadata": {},
   "outputs": [
    {
     "data": {
      "image/png": "[encoded data removed]",
      "text/plain": [
       "<Figure size 1152x720 with 6 Axes>"
      ]
     },
     "metadata": {
      "needs_background": "light"
     },
     "output_type": "display_data"
    }
   ],
   "source": [
    "fig, axes = plt.subplots(2, 3,figsize=(16,10),sharex=True,sharey=True)\n",
    "fig.suptitle(\"Employment Probability across Companies\",fontsize=25)\n",
    "axes[0,0].step(cust_service.times,cust_service.employment_proba,lw=3.0,where=\"post\");\n",
    "axes[0,0].set_title(cust_service.name,fontsize=15);\n",
    "axes[0,0].set_ylabel('Probability of Employment $\\hat{S}(t)$',fontsize=15)\n",
    "axes[0,0].set_yticks([0.0,0.5,1.0])\n",
    "axes[0,0].set_yticklabels([0,0.5,1.0],fontsize=15)\n",
    "axes[0,1].step(engineer.times,engineer.employment_proba,lw=3.0,where=\"post\");\n",
    "axes[0,1].set_title(engineer.name,fontsize=15);\n",
    "axes[0,2].step(data_science.times,data_science.employment_proba,lw=3.0,where=\"post\");\n",
    "axes[0,2].set_title(data_science.name,fontsize=15);\n",
    "axes[1,0].step(sales.times,sales.employment_proba,lw=3.0,where=\"post\");\n",
    "axes[1,0].set_title(sales.name,fontsize=15);\n",
    "axes[1,0].set_ylabel('Probability of Employment $\\hat{S}(t)$',fontsize=15);\n",
    "axes[1,0].set_xlabel('Length of Employment $t$ \\n (Months)',fontsize=15);\n",
    "axes[1,0].set_xticks([0,12,24,36,48])\n",
    "axes[1,0].set_xticklabels([0,12,24,36,48],fontsize=15)\n",
    "axes[1,0].set_yticks([0.0,0.5,1.0])\n",
    "axes[1,0].set_yticklabels([0,0.5,1.0],fontsize=15)\n",
    "axes[1,1].step(marketing.times,marketing.employment_proba,lw=3.0,where=\"post\");\n",
    "axes[1,1].set_xlabel('Length of Employment $t$ \\n (Months)',fontsize=15);\n",
    "axes[1,1].set_title(marketing.name,fontsize=15);\n",
    "axes[1,1].set_xticks([0,12,24,36,48])\n",
    "axes[1,1].set_xticklabels([0,12,24,36,48],fontsize=15)\n",
    "axes[1,2].step(design.times,design.employment_proba,lw=3.0,where=\"post\");\n",
    "axes[1,2].set_title(design.name,fontsize=15);\n",
    "axes[1,2].set_xlabel('Length of Employment $t$ \\n (Months)',fontsize=15);\n",
    "axes[1,2].set_xticks([0,12,24,36,48]);\n",
    "axes[1,2].set_xticklabels([0,12,24,36,48],fontsize=15);"
   ]
  },
  {
   "cell_type": "markdown",
   "metadata": {},
   "source": [
    "Biggest drop in employment happens after a year and the second biggest drop happens after two years.  This is across all departments!"
   ]
  },
  {
   "cell_type": "code",
   "execution_count": 117,
   "metadata": {},
   "outputs": [],
   "source": [
    "from sksurv.linear_model import CoxPHSurvivalAnalysis"
   ]
  },
  {
   "cell_type": "markdown",
   "metadata": {},
   "source": [
    "Let us use the Cox's proportional hazard model to see if we can predict these survival curves; we'll use [Harrell's C-index](https://arxiv.org/pdf/1507.03092.pdf) judge how well our predictions do.  The C-index is similar to the AUCROC in that it lends itself to a probabilistic interpretation: it is the probability our model correctly orders a pair of survival times given their order.  Clearly, the worst the model can do is a 50-50 guess (i.e. C-index = 0.5)."
   ]
  },
  {
   "cell_type": "code",
   "execution_count": 118,
   "metadata": {},
   "outputs": [],
   "source": [
    "def fit_and_score_features(X, y):\n",
    "    n_features = X.shape[1]\n",
    "    scores = np.empty(n_features)\n",
    "    coeffs = np.empty(n_features)\n",
    "    m = CoxPHSurvivalAnalysis()\n",
    "    for j in range(n_features):\n",
    "        Xj = X[:, j:j+1]\n",
    "        m.fit(Xj, y)\n",
    "        scores[j] = m.score(Xj, y)\n",
    "        coeffs[j] = m.coef_\n",
    "    return scores, coeffs"
   ]
  },
  {
   "cell_type": "markdown",
   "metadata": {},
   "source": [
    "**Customer service**"
   ]
  },
  {
   "cell_type": "code",
   "execution_count": 119,
   "metadata": {},
   "outputs": [
    {
     "data": {
      "text/html": [
       "<div>\n",
       "<style scoped>\n",
       "    .dataframe tbody tr th:only-of-type {\n",
       "        vertical-align: middle;\n",
       "    }\n",
       "\n",
       "    .dataframe tbody tr th {\n",
       "        vertical-align: top;\n",
       "    }\n",
       "\n",
       "    .dataframe thead th {\n",
       "        text-align: right;\n",
       "    }\n",
       "</style>\n",
       "<table border=\"1\" class=\"dataframe\">\n",
       "  <thead>\n",
       "    <tr style=\"text-align: right;\">\n",
       "      <th></th>\n",
       "      <th>scores</th>\n",
       "      <th>coeffs</th>\n",
       "    </tr>\n",
       "  </thead>\n",
       "  <tbody>\n",
       "    <tr>\n",
       "      <th>salary</th>\n",
       "      <td>0.543382</td>\n",
       "      <td>0.046476</td>\n",
       "    </tr>\n",
       "    <tr>\n",
       "      <th>seniority</th>\n",
       "      <td>0.539156</td>\n",
       "      <td>0.014979</td>\n",
       "    </tr>\n",
       "  </tbody>\n",
       "</table>\n",
       "</div>"
      ],
      "text/plain": [
       "             scores    coeffs\n",
       "salary     0.543382  0.046476\n",
       "seniority  0.539156  0.014979"
      ]
     },
     "execution_count": 119,
     "metadata": {},
     "output_type": "execute_result"
    }
   ],
   "source": [
    "scores,coeffs = fit_and_score_features(cust_service.data_x.to_numpy(), cust_service.data_y)\n",
    "pd.DataFrame({\"scores\":scores,\"coeffs\":coeffs}, index=cust_service.data_x.columns).sort_values(by=[\"scores\"],ascending=False)"
   ]
  },
  {
   "cell_type": "markdown",
   "metadata": {},
   "source": [
    "The coefficients are positive, so an increase in salary or an increase seniority or both will both increase the hazard function, increasing the probability that the employee terminates"
   ]
  },
  {
   "cell_type": "markdown",
   "metadata": {},
   "source": [
    "**Engineer**"
   ]
  },
  {
   "cell_type": "code",
   "execution_count": 120,
   "metadata": {},
   "outputs": [
    {
     "data": {
      "text/html": [
       "<div>\n",
       "<style scoped>\n",
       "    .dataframe tbody tr th:only-of-type {\n",
       "        vertical-align: middle;\n",
       "    }\n",
       "\n",
       "    .dataframe tbody tr th {\n",
       "        vertical-align: top;\n",
       "    }\n",
       "\n",
       "    .dataframe thead th {\n",
       "        text-align: right;\n",
       "    }\n",
       "</style>\n",
       "<table border=\"1\" class=\"dataframe\">\n",
       "  <thead>\n",
       "    <tr style=\"text-align: right;\">\n",
       "      <th></th>\n",
       "      <th>scores</th>\n",
       "      <th>coeffs</th>\n",
       "    </tr>\n",
       "  </thead>\n",
       "  <tbody>\n",
       "    <tr>\n",
       "      <th>salary</th>\n",
       "      <td>0.580733</td>\n",
       "      <td>-0.025002</td>\n",
       "    </tr>\n",
       "    <tr>\n",
       "      <th>seniority</th>\n",
       "      <td>0.558697</td>\n",
       "      <td>-0.020476</td>\n",
       "    </tr>\n",
       "  </tbody>\n",
       "</table>\n",
       "</div>"
      ],
      "text/plain": [
       "             scores    coeffs\n",
       "salary     0.580733 -0.025002\n",
       "seniority  0.558697 -0.020476"
      ]
     },
     "execution_count": 120,
     "metadata": {},
     "output_type": "execute_result"
    }
   ],
   "source": [
    "scores,coeffs = fit_and_score_features(engineer.data_x.to_numpy(), engineer.data_y)\n",
    "pd.DataFrame({\"scores\":scores,\"coeffs\":coeffs}, index=engineer.data_x.columns).sort_values(by=[\"scores\"],ascending=False)"
   ]
  },
  {
   "cell_type": "markdown",
   "metadata": {},
   "source": [
    "The coefficients are opposite in sign; an increase in salary or an increase in seniority or both will, decrease the probability the employee terminates -- increasing employee retention!"
   ]
  },
  {
   "cell_type": "markdown",
   "metadata": {},
   "source": [
    "**Data Scientist**"
   ]
  },
  {
   "cell_type": "code",
   "execution_count": 121,
   "metadata": {},
   "outputs": [
    {
     "data": {
      "text/html": [
       "<div>\n",
       "<style scoped>\n",
       "    .dataframe tbody tr th:only-of-type {\n",
       "        vertical-align: middle;\n",
       "    }\n",
       "\n",
       "    .dataframe tbody tr th {\n",
       "        vertical-align: top;\n",
       "    }\n",
       "\n",
       "    .dataframe thead th {\n",
       "        text-align: right;\n",
       "    }\n",
       "</style>\n",
       "<table border=\"1\" class=\"dataframe\">\n",
       "  <thead>\n",
       "    <tr style=\"text-align: right;\">\n",
       "      <th></th>\n",
       "      <th>scores</th>\n",
       "      <th>coeffs</th>\n",
       "    </tr>\n",
       "  </thead>\n",
       "  <tbody>\n",
       "    <tr>\n",
       "      <th>salary</th>\n",
       "      <td>0.570309</td>\n",
       "      <td>-0.023348</td>\n",
       "    </tr>\n",
       "    <tr>\n",
       "      <th>seniority</th>\n",
       "      <td>0.561697</td>\n",
       "      <td>-0.022492</td>\n",
       "    </tr>\n",
       "  </tbody>\n",
       "</table>\n",
       "</div>"
      ],
      "text/plain": [
       "             scores    coeffs\n",
       "salary     0.570309 -0.023348\n",
       "seniority  0.561697 -0.022492"
      ]
     },
     "execution_count": 121,
     "metadata": {},
     "output_type": "execute_result"
    }
   ],
   "source": [
    "scores,coeffs = fit_and_score_features(data_science.data_x.to_numpy(), data_science.data_y)\n",
    "pd.DataFrame({\"scores\":scores,\"coeffs\":coeffs}, index=engineer.data_x.columns).sort_values(by=[\"scores\"],ascending=False)"
   ]
  },
  {
   "cell_type": "markdown",
   "metadata": {},
   "source": [
    "An increase in salary or in seniority will increase employee retention of data scientists"
   ]
  },
  {
   "cell_type": "markdown",
   "metadata": {},
   "source": [
    "**Sales**"
   ]
  },
  {
   "cell_type": "code",
   "execution_count": 123,
   "metadata": {},
   "outputs": [
    {
     "data": {
      "text/html": [
       "<div>\n",
       "<style scoped>\n",
       "    .dataframe tbody tr th:only-of-type {\n",
       "        vertical-align: middle;\n",
       "    }\n",
       "\n",
       "    .dataframe tbody tr th {\n",
       "        vertical-align: top;\n",
       "    }\n",
       "\n",
       "    .dataframe thead th {\n",
       "        text-align: right;\n",
       "    }\n",
       "</style>\n",
       "<table border=\"1\" class=\"dataframe\">\n",
       "  <thead>\n",
       "    <tr style=\"text-align: right;\">\n",
       "      <th></th>\n",
       "      <th>scores</th>\n",
       "      <th>coeffs</th>\n",
       "    </tr>\n",
       "  </thead>\n",
       "  <tbody>\n",
       "    <tr>\n",
       "      <th>seniority</th>\n",
       "      <td>0.508638</td>\n",
       "      <td>0.001382</td>\n",
       "    </tr>\n",
       "    <tr>\n",
       "      <th>salary</th>\n",
       "      <td>0.506030</td>\n",
       "      <td>0.005323</td>\n",
       "    </tr>\n",
       "  </tbody>\n",
       "</table>\n",
       "</div>"
      ],
      "text/plain": [
       "             scores    coeffs\n",
       "seniority  0.508638  0.001382\n",
       "salary     0.506030  0.005323"
      ]
     },
     "execution_count": 123,
     "metadata": {},
     "output_type": "execute_result"
    }
   ],
   "source": [
    "scores,coeffs = fit_and_score_features(sales.data_x.to_numpy(), sales.data_y)\n",
    "pd.DataFrame({\"scores\":scores,\"coeffs\":coeffs}, index=sales.data_x.columns).sort_values(by=[\"scores\"],ascending=False)"
   ]
  },
  {
   "cell_type": "markdown",
   "metadata": {},
   "source": [
    "Our model has no predictive power on employee retention in the sales department"
   ]
  },
  {
   "cell_type": "markdown",
   "metadata": {},
   "source": [
    "**Marketing**"
   ]
  },
  {
   "cell_type": "code",
   "execution_count": 124,
   "metadata": {},
   "outputs": [
    {
     "data": {
      "text/html": [
       "<div>\n",
       "<style scoped>\n",
       "    .dataframe tbody tr th:only-of-type {\n",
       "        vertical-align: middle;\n",
       "    }\n",
       "\n",
       "    .dataframe tbody tr th {\n",
       "        vertical-align: top;\n",
       "    }\n",
       "\n",
       "    .dataframe thead th {\n",
       "        text-align: right;\n",
       "    }\n",
       "</style>\n",
       "<table border=\"1\" class=\"dataframe\">\n",
       "  <thead>\n",
       "    <tr style=\"text-align: right;\">\n",
       "      <th></th>\n",
       "      <th>scores</th>\n",
       "      <th>coeffs</th>\n",
       "    </tr>\n",
       "  </thead>\n",
       "  <tbody>\n",
       "    <tr>\n",
       "      <th>seniority</th>\n",
       "      <td>0.507547</td>\n",
       "      <td>0.004247</td>\n",
       "    </tr>\n",
       "    <tr>\n",
       "      <th>salary</th>\n",
       "      <td>0.503954</td>\n",
       "      <td>0.006519</td>\n",
       "    </tr>\n",
       "  </tbody>\n",
       "</table>\n",
       "</div>"
      ],
      "text/plain": [
       "             scores    coeffs\n",
       "seniority  0.507547  0.004247\n",
       "salary     0.503954  0.006519"
      ]
     },
     "execution_count": 124,
     "metadata": {},
     "output_type": "execute_result"
    }
   ],
   "source": [
    "scores,coeffs = fit_and_score_features(marketing.data_x.to_numpy(), marketing.data_y)\n",
    "pd.DataFrame({\"scores\":scores,\"coeffs\":coeffs}, index=marketing.data_x.columns).sort_values(by=[\"scores\"],ascending=False)"
   ]
  },
  {
   "cell_type": "markdown",
   "metadata": {},
   "source": [
    "Our model has no predictive power on employee retention in the marketing department"
   ]
  },
  {
   "cell_type": "markdown",
   "metadata": {},
   "source": [
    "**Design**"
   ]
  },
  {
   "cell_type": "code",
   "execution_count": 125,
   "metadata": {},
   "outputs": [
    {
     "data": {
      "text/html": [
       "<div>\n",
       "<style scoped>\n",
       "    .dataframe tbody tr th:only-of-type {\n",
       "        vertical-align: middle;\n",
       "    }\n",
       "\n",
       "    .dataframe tbody tr th {\n",
       "        vertical-align: top;\n",
       "    }\n",
       "\n",
       "    .dataframe thead th {\n",
       "        text-align: right;\n",
       "    }\n",
       "</style>\n",
       "<table border=\"1\" class=\"dataframe\">\n",
       "  <thead>\n",
       "    <tr style=\"text-align: right;\">\n",
       "      <th></th>\n",
       "      <th>scores</th>\n",
       "      <th>coeffs</th>\n",
       "    </tr>\n",
       "  </thead>\n",
       "  <tbody>\n",
       "    <tr>\n",
       "      <th>seniority</th>\n",
       "      <td>0.523503</td>\n",
       "      <td>0.006290</td>\n",
       "    </tr>\n",
       "    <tr>\n",
       "      <th>salary</th>\n",
       "      <td>0.510477</td>\n",
       "      <td>0.010059</td>\n",
       "    </tr>\n",
       "  </tbody>\n",
       "</table>\n",
       "</div>"
      ],
      "text/plain": [
       "             scores    coeffs\n",
       "seniority  0.523503  0.006290\n",
       "salary     0.510477  0.010059"
      ]
     },
     "execution_count": 125,
     "metadata": {},
     "output_type": "execute_result"
    }
   ],
   "source": [
    "scores,coeffs = fit_and_score_features(design.data_x.to_numpy(),design.data_y)\n",
    "pd.DataFrame({\"scores\":scores,\"coeffs\":coeffs}, index=design.data_x.columns).sort_values(by=[\"scores\"],ascending=False)"
   ]
  },
  {
   "cell_type": "markdown",
   "metadata": {},
   "source": [
    "Our model has no predictive power on employee retention in the design department"
   ]
  },
  {
   "cell_type": "markdown",
   "metadata": {},
   "source": [
    "### Let's analyze employee retention for each company"
   ]
  },
  {
   "cell_type": "code",
   "execution_count": 126,
   "metadata": {},
   "outputs": [],
   "source": [
    "class CompanySurvival:\n",
    "    from sksurv.nonparametric import kaplan_meier_estimator\n",
    "    from sksurv.preprocessing import OneHotEncoder\n",
    "    \n",
    "    def __init__(self, name,num,df):\n",
    "        self.name = name\n",
    "        self.num = num\n",
    "        self.df = df[(df.company_id == num) & (df.dept != 'temp_contractor')]\n",
    "        \n",
    "        self.data_x = self.df[[\"dept\",\"seniority\",\"salary\"]]\n",
    "        self.data_x[\"dept\"] = self.data_x.dept.astype('category')\n",
    "        self.data_x_numeric = pd.get_dummies(self.data_x)\n",
    "        self.data_y = self.df[[\"event_bool\",\"length of employment (months)\"]].to_records(index=False,column_dtypes={\"event_bool\":'?',\"length of employment (months)\":'<f8'})\n",
    "        self.times, self.employment_proba = kaplan_meier_estimator(self.df[\"event_bool\"],self.df[\"length of employment (months)\"])"
   ]
  },
  {
   "cell_type": "code",
   "execution_count": 127,
   "metadata": {},
   "outputs": [
    {
     "name": "stderr",
     "output_type": "stream",
     "text": [
      "/home/walter/software/anaconda3/envs/data_challenge_2/lib/python3.7/site-packages/ipykernel_launcher.py:11: SettingWithCopyWarning: \n",
      "A value is trying to be set on a copy of a slice from a DataFrame.\n",
      "Try using .loc[row_indexer,col_indexer] = value instead\n",
      "\n",
      "See the caveats in the documentation: http://pandas.pydata.org/pandas-docs/stable/indexing.html#indexing-view-versus-copy\n",
      "  # This is added back by InteractiveShellApp.init_path()\n"
     ]
    }
   ],
   "source": [
    "company1_survival = CompanySurvival(\"Company 1\",1,employee_data_retention)"
   ]
  },
  {
   "cell_type": "code",
   "execution_count": 128,
   "metadata": {},
   "outputs": [
    {
     "data": {
      "text/html": [
       "<div>\n",
       "<style scoped>\n",
       "    .dataframe tbody tr th:only-of-type {\n",
       "        vertical-align: middle;\n",
       "    }\n",
       "\n",
       "    .dataframe tbody tr th {\n",
       "        vertical-align: top;\n",
       "    }\n",
       "\n",
       "    .dataframe thead th {\n",
       "        text-align: right;\n",
       "    }\n",
       "</style>\n",
       "<table border=\"1\" class=\"dataframe\">\n",
       "  <thead>\n",
       "    <tr style=\"text-align: right;\">\n",
       "      <th></th>\n",
       "      <th>employee_id</th>\n",
       "      <th>company_id</th>\n",
       "      <th>dept</th>\n",
       "      <th>seniority</th>\n",
       "      <th>salary</th>\n",
       "      <th>join_date</th>\n",
       "      <th>quit_date</th>\n",
       "      <th>length of employment (months)</th>\n",
       "      <th>event</th>\n",
       "      <th>event_bool</th>\n",
       "    </tr>\n",
       "  </thead>\n",
       "  <tbody>\n",
       "    <tr>\n",
       "      <th>1</th>\n",
       "      <td>788762.0</td>\n",
       "      <td>1</td>\n",
       "      <td>engineer</td>\n",
       "      <td>29</td>\n",
       "      <td>29.7</td>\n",
       "      <td>2013-09-30</td>\n",
       "      <td>2014-10-03</td>\n",
       "      <td>12.090597</td>\n",
       "      <td>1</td>\n",
       "      <td>True</td>\n",
       "    </tr>\n",
       "    <tr>\n",
       "      <th>5</th>\n",
       "      <td>505369.0</td>\n",
       "      <td>1</td>\n",
       "      <td>customer_service</td>\n",
       "      <td>23</td>\n",
       "      <td>11.3</td>\n",
       "      <td>2011-02-01</td>\n",
       "      <td>2013-01-31</td>\n",
       "      <td>23.984065</td>\n",
       "      <td>1</td>\n",
       "      <td>True</td>\n",
       "    </tr>\n",
       "    <tr>\n",
       "      <th>8</th>\n",
       "      <td>567671.0</td>\n",
       "      <td>1</td>\n",
       "      <td>engineer</td>\n",
       "      <td>27</td>\n",
       "      <td>25.9</td>\n",
       "      <td>2012-11-19</td>\n",
       "      <td>2013-08-16</td>\n",
       "      <td>8.870819</td>\n",
       "      <td>1</td>\n",
       "      <td>True</td>\n",
       "    </tr>\n",
       "    <tr>\n",
       "      <th>15</th>\n",
       "      <td>408171.0</td>\n",
       "      <td>1</td>\n",
       "      <td>marketing</td>\n",
       "      <td>3</td>\n",
       "      <td>5.3</td>\n",
       "      <td>2011-08-09</td>\n",
       "      <td>2014-06-13</td>\n",
       "      <td>34.136225</td>\n",
       "      <td>1</td>\n",
       "      <td>True</td>\n",
       "    </tr>\n",
       "    <tr>\n",
       "      <th>16</th>\n",
       "      <td>222128.0</td>\n",
       "      <td>1</td>\n",
       "      <td>sales</td>\n",
       "      <td>10</td>\n",
       "      <td>13.8</td>\n",
       "      <td>2013-05-13</td>\n",
       "      <td>2015-12-13</td>\n",
       "      <td>31.015011</td>\n",
       "      <td>0</td>\n",
       "      <td>False</td>\n",
       "    </tr>\n",
       "  </tbody>\n",
       "</table>\n",
       "</div>"
      ],
      "text/plain": [
       "    employee_id  company_id              dept  seniority  salary  join_date  \\\n",
       "1      788762.0           1          engineer         29    29.7 2013-09-30   \n",
       "5      505369.0           1  customer_service         23    11.3 2011-02-01   \n",
       "8      567671.0           1          engineer         27    25.9 2012-11-19   \n",
       "15     408171.0           1         marketing          3     5.3 2011-08-09   \n",
       "16     222128.0           1             sales         10    13.8 2013-05-13   \n",
       "\n",
       "    quit_date  length of employment (months)  event  event_bool  \n",
       "1  2014-10-03                      12.090597      1        True  \n",
       "5  2013-01-31                      23.984065      1        True  \n",
       "8  2013-08-16                       8.870819      1        True  \n",
       "15 2014-06-13                      34.136225      1        True  \n",
       "16 2015-12-13                      31.015011      0       False  "
      ]
     },
     "execution_count": 128,
     "metadata": {},
     "output_type": "execute_result"
    }
   ],
   "source": [
    "company1_survival.df.head()"
   ]
  },
  {
   "cell_type": "markdown",
   "metadata": {},
   "source": [
    "**Company 1**"
   ]
  },
  {
   "cell_type": "code",
   "execution_count": 129,
   "metadata": {},
   "outputs": [
    {
     "data": {
      "text/html": [
       "<div>\n",
       "<style scoped>\n",
       "    .dataframe tbody tr th:only-of-type {\n",
       "        vertical-align: middle;\n",
       "    }\n",
       "\n",
       "    .dataframe tbody tr th {\n",
       "        vertical-align: top;\n",
       "    }\n",
       "\n",
       "    .dataframe thead th {\n",
       "        text-align: right;\n",
       "    }\n",
       "</style>\n",
       "<table border=\"1\" class=\"dataframe\">\n",
       "  <thead>\n",
       "    <tr style=\"text-align: right;\">\n",
       "      <th></th>\n",
       "      <th>scores</th>\n",
       "      <th>coeffs</th>\n",
       "    </tr>\n",
       "  </thead>\n",
       "  <tbody>\n",
       "    <tr>\n",
       "      <th>salary</th>\n",
       "      <td>0.528938</td>\n",
       "      <td>-0.013493</td>\n",
       "    </tr>\n",
       "    <tr>\n",
       "      <th>dept_customer_service</th>\n",
       "      <td>0.522247</td>\n",
       "      <td>0.160188</td>\n",
       "    </tr>\n",
       "    <tr>\n",
       "      <th>dept_engineer</th>\n",
       "      <td>0.521031</td>\n",
       "      <td>-0.272559</td>\n",
       "    </tr>\n",
       "    <tr>\n",
       "      <th>dept_data_science</th>\n",
       "      <td>0.513161</td>\n",
       "      <td>-0.193733</td>\n",
       "    </tr>\n",
       "    <tr>\n",
       "      <th>dept_sales</th>\n",
       "      <td>0.509465</td>\n",
       "      <td>0.153953</td>\n",
       "    </tr>\n",
       "    <tr>\n",
       "      <th>seniority</th>\n",
       "      <td>0.507326</td>\n",
       "      <td>-0.002093</td>\n",
       "    </tr>\n",
       "    <tr>\n",
       "      <th>dept_marketing</th>\n",
       "      <td>0.504746</td>\n",
       "      <td>0.078548</td>\n",
       "    </tr>\n",
       "    <tr>\n",
       "      <th>dept_design</th>\n",
       "      <td>0.502266</td>\n",
       "      <td>-0.004763</td>\n",
       "    </tr>\n",
       "  </tbody>\n",
       "</table>\n",
       "</div>"
      ],
      "text/plain": [
       "                         scores    coeffs\n",
       "salary                 0.528938 -0.013493\n",
       "dept_customer_service  0.522247  0.160188\n",
       "dept_engineer          0.521031 -0.272559\n",
       "dept_data_science      0.513161 -0.193733\n",
       "dept_sales             0.509465  0.153953\n",
       "seniority              0.507326 -0.002093\n",
       "dept_marketing         0.504746  0.078548\n",
       "dept_design            0.502266 -0.004763"
      ]
     },
     "execution_count": 129,
     "metadata": {},
     "output_type": "execute_result"
    }
   ],
   "source": [
    "scores,coeffs = fit_and_score_features(company1_survival.data_x_numeric.to_numpy(), company1_survival.data_y)\n",
    "pd.DataFrame({\"scores\":scores,\"coeffs\":coeffs}, index=company1_survival.data_x_numeric.columns).sort_values(by=[\"scores\"],ascending=False)"
   ]
  },
  {
   "cell_type": "markdown",
   "metadata": {},
   "source": [
    "**Company 2**"
   ]
  },
  {
   "cell_type": "code",
   "execution_count": 131,
   "metadata": {},
   "outputs": [
    {
     "name": "stderr",
     "output_type": "stream",
     "text": [
      "/home/walter/software/anaconda3/envs/data_challenge_2/lib/python3.7/site-packages/ipykernel_launcher.py:11: SettingWithCopyWarning: \n",
      "A value is trying to be set on a copy of a slice from a DataFrame.\n",
      "Try using .loc[row_indexer,col_indexer] = value instead\n",
      "\n",
      "See the caveats in the documentation: http://pandas.pydata.org/pandas-docs/stable/indexing.html#indexing-view-versus-copy\n",
      "  # This is added back by InteractiveShellApp.init_path()\n"
     ]
    }
   ],
   "source": [
    "company2_survival = CompanySurvival(\"Company 2\",2,employee_data_retention)"
   ]
  },
  {
   "cell_type": "code",
   "execution_count": 132,
   "metadata": {},
   "outputs": [
    {
     "data": {
      "text/html": [
       "<div>\n",
       "<style scoped>\n",
       "    .dataframe tbody tr th:only-of-type {\n",
       "        vertical-align: middle;\n",
       "    }\n",
       "\n",
       "    .dataframe tbody tr th {\n",
       "        vertical-align: top;\n",
       "    }\n",
       "\n",
       "    .dataframe thead th {\n",
       "        text-align: right;\n",
       "    }\n",
       "</style>\n",
       "<table border=\"1\" class=\"dataframe\">\n",
       "  <thead>\n",
       "    <tr style=\"text-align: right;\">\n",
       "      <th></th>\n",
       "      <th>scores</th>\n",
       "      <th>coeffs</th>\n",
       "    </tr>\n",
       "  </thead>\n",
       "  <tbody>\n",
       "    <tr>\n",
       "      <th>salary</th>\n",
       "      <td>0.535578</td>\n",
       "      <td>-0.015658</td>\n",
       "    </tr>\n",
       "    <tr>\n",
       "      <th>dept_customer_service</th>\n",
       "      <td>0.527288</td>\n",
       "      <td>0.166934</td>\n",
       "    </tr>\n",
       "    <tr>\n",
       "      <th>dept_engineer</th>\n",
       "      <td>0.524965</td>\n",
       "      <td>-0.271253</td>\n",
       "    </tr>\n",
       "    <tr>\n",
       "      <th>dept_data_science</th>\n",
       "      <td>0.519416</td>\n",
       "      <td>-0.271490</td>\n",
       "    </tr>\n",
       "    <tr>\n",
       "      <th>dept_sales</th>\n",
       "      <td>0.515092</td>\n",
       "      <td>0.243583</td>\n",
       "    </tr>\n",
       "    <tr>\n",
       "      <th>seniority</th>\n",
       "      <td>0.508260</td>\n",
       "      <td>-0.002460</td>\n",
       "    </tr>\n",
       "    <tr>\n",
       "      <th>dept_marketing</th>\n",
       "      <td>0.504992</td>\n",
       "      <td>0.096337</td>\n",
       "    </tr>\n",
       "    <tr>\n",
       "      <th>dept_design</th>\n",
       "      <td>0.502991</td>\n",
       "      <td>-0.005219</td>\n",
       "    </tr>\n",
       "  </tbody>\n",
       "</table>\n",
       "</div>"
      ],
      "text/plain": [
       "                         scores    coeffs\n",
       "salary                 0.535578 -0.015658\n",
       "dept_customer_service  0.527288  0.166934\n",
       "dept_engineer          0.524965 -0.271253\n",
       "dept_data_science      0.519416 -0.271490\n",
       "dept_sales             0.515092  0.243583\n",
       "seniority              0.508260 -0.002460\n",
       "dept_marketing         0.504992  0.096337\n",
       "dept_design            0.502991 -0.005219"
      ]
     },
     "execution_count": 132,
     "metadata": {},
     "output_type": "execute_result"
    }
   ],
   "source": [
    "scores,coeffs = fit_and_score_features(company2_survival.data_x_numeric.to_numpy(), company2_survival.data_y)\n",
    "pd.DataFrame({\"scores\":scores,\"coeffs\":coeffs}, index=company2_survival.data_x_numeric.columns).sort_values(by=[\"scores\"],ascending=False)"
   ]
  },
  {
   "cell_type": "markdown",
   "metadata": {},
   "source": [
    "**Company 3**"
   ]
  },
  {
   "cell_type": "code",
   "execution_count": 133,
   "metadata": {},
   "outputs": [
    {
     "name": "stderr",
     "output_type": "stream",
     "text": [
      "/home/walter/software/anaconda3/envs/data_challenge_2/lib/python3.7/site-packages/ipykernel_launcher.py:11: SettingWithCopyWarning: \n",
      "A value is trying to be set on a copy of a slice from a DataFrame.\n",
      "Try using .loc[row_indexer,col_indexer] = value instead\n",
      "\n",
      "See the caveats in the documentation: http://pandas.pydata.org/pandas-docs/stable/indexing.html#indexing-view-versus-copy\n",
      "  # This is added back by InteractiveShellApp.init_path()\n"
     ]
    }
   ],
   "source": [
    "company3_survival = CompanySurvival(\"Company 3\",3,employee_data_retention)"
   ]
  },
  {
   "cell_type": "code",
   "execution_count": 134,
   "metadata": {},
   "outputs": [
    {
     "data": {
      "text/html": [
       "<div>\n",
       "<style scoped>\n",
       "    .dataframe tbody tr th:only-of-type {\n",
       "        vertical-align: middle;\n",
       "    }\n",
       "\n",
       "    .dataframe tbody tr th {\n",
       "        vertical-align: top;\n",
       "    }\n",
       "\n",
       "    .dataframe thead th {\n",
       "        text-align: right;\n",
       "    }\n",
       "</style>\n",
       "<table border=\"1\" class=\"dataframe\">\n",
       "  <thead>\n",
       "    <tr style=\"text-align: right;\">\n",
       "      <th></th>\n",
       "      <th>scores</th>\n",
       "      <th>coeffs</th>\n",
       "    </tr>\n",
       "  </thead>\n",
       "  <tbody>\n",
       "    <tr>\n",
       "      <th>salary</th>\n",
       "      <td>0.515861</td>\n",
       "      <td>0.001906</td>\n",
       "    </tr>\n",
       "    <tr>\n",
       "      <th>dept_customer_service</th>\n",
       "      <td>0.511670</td>\n",
       "      <td>-0.101885</td>\n",
       "    </tr>\n",
       "    <tr>\n",
       "      <th>seniority</th>\n",
       "      <td>0.509753</td>\n",
       "      <td>0.001384</td>\n",
       "    </tr>\n",
       "    <tr>\n",
       "      <th>dept_sales</th>\n",
       "      <td>0.505874</td>\n",
       "      <td>0.052982</td>\n",
       "    </tr>\n",
       "    <tr>\n",
       "      <th>dept_design</th>\n",
       "      <td>0.504555</td>\n",
       "      <td>0.119547</td>\n",
       "    </tr>\n",
       "    <tr>\n",
       "      <th>dept_marketing</th>\n",
       "      <td>0.504110</td>\n",
       "      <td>0.067190</td>\n",
       "    </tr>\n",
       "    <tr>\n",
       "      <th>dept_engineer</th>\n",
       "      <td>0.501442</td>\n",
       "      <td>-0.001666</td>\n",
       "    </tr>\n",
       "    <tr>\n",
       "      <th>dept_data_science</th>\n",
       "      <td>0.498573</td>\n",
       "      <td>0.038354</td>\n",
       "    </tr>\n",
       "  </tbody>\n",
       "</table>\n",
       "</div>"
      ],
      "text/plain": [
       "                         scores    coeffs\n",
       "salary                 0.515861  0.001906\n",
       "dept_customer_service  0.511670 -0.101885\n",
       "seniority              0.509753  0.001384\n",
       "dept_sales             0.505874  0.052982\n",
       "dept_design            0.504555  0.119547\n",
       "dept_marketing         0.504110  0.067190\n",
       "dept_engineer          0.501442 -0.001666\n",
       "dept_data_science      0.498573  0.038354"
      ]
     },
     "execution_count": 134,
     "metadata": {},
     "output_type": "execute_result"
    }
   ],
   "source": [
    "scores,coeffs = fit_and_score_features(company3_survival.data_x_numeric.to_numpy(), company3_survival.data_y)\n",
    "pd.DataFrame({\"scores\":scores,\"coeffs\":coeffs}, index=company3_survival.data_x_numeric.columns).sort_values(by=[\"scores\"],ascending=False)"
   ]
  },
  {
   "cell_type": "markdown",
   "metadata": {},
   "source": [
    "**Company 4**"
   ]
  },
  {
   "cell_type": "code",
   "execution_count": 135,
   "metadata": {},
   "outputs": [
    {
     "name": "stderr",
     "output_type": "stream",
     "text": [
      "/home/walter/software/anaconda3/envs/data_challenge_2/lib/python3.7/site-packages/ipykernel_launcher.py:11: SettingWithCopyWarning: \n",
      "A value is trying to be set on a copy of a slice from a DataFrame.\n",
      "Try using .loc[row_indexer,col_indexer] = value instead\n",
      "\n",
      "See the caveats in the documentation: http://pandas.pydata.org/pandas-docs/stable/indexing.html#indexing-view-versus-copy\n",
      "  # This is added back by InteractiveShellApp.init_path()\n"
     ]
    }
   ],
   "source": [
    "company4_survival = CompanySurvival(\"Company 4\",4,employee_data_retention)"
   ]
  },
  {
   "cell_type": "code",
   "execution_count": 136,
   "metadata": {},
   "outputs": [
    {
     "data": {
      "text/html": [
       "<div>\n",
       "<style scoped>\n",
       "    .dataframe tbody tr th:only-of-type {\n",
       "        vertical-align: middle;\n",
       "    }\n",
       "\n",
       "    .dataframe tbody tr th {\n",
       "        vertical-align: top;\n",
       "    }\n",
       "\n",
       "    .dataframe thead th {\n",
       "        text-align: right;\n",
       "    }\n",
       "</style>\n",
       "<table border=\"1\" class=\"dataframe\">\n",
       "  <thead>\n",
       "    <tr style=\"text-align: right;\">\n",
       "      <th></th>\n",
       "      <th>scores</th>\n",
       "      <th>coeffs</th>\n",
       "    </tr>\n",
       "  </thead>\n",
       "  <tbody>\n",
       "    <tr>\n",
       "      <th>dept_sales</th>\n",
       "      <td>0.514392</td>\n",
       "      <td>0.189847</td>\n",
       "    </tr>\n",
       "    <tr>\n",
       "      <th>dept_marketing</th>\n",
       "      <td>0.513172</td>\n",
       "      <td>0.184516</td>\n",
       "    </tr>\n",
       "    <tr>\n",
       "      <th>dept_customer_service</th>\n",
       "      <td>0.512310</td>\n",
       "      <td>-0.066430</td>\n",
       "    </tr>\n",
       "    <tr>\n",
       "      <th>dept_engineer</th>\n",
       "      <td>0.511978</td>\n",
       "      <td>-0.110905</td>\n",
       "    </tr>\n",
       "    <tr>\n",
       "      <th>salary</th>\n",
       "      <td>0.509477</td>\n",
       "      <td>0.001396</td>\n",
       "    </tr>\n",
       "    <tr>\n",
       "      <th>seniority</th>\n",
       "      <td>0.506153</td>\n",
       "      <td>0.003039</td>\n",
       "    </tr>\n",
       "    <tr>\n",
       "      <th>dept_data_science</th>\n",
       "      <td>0.502561</td>\n",
       "      <td>-0.066411</td>\n",
       "    </tr>\n",
       "    <tr>\n",
       "      <th>dept_design</th>\n",
       "      <td>0.499284</td>\n",
       "      <td>0.003543</td>\n",
       "    </tr>\n",
       "  </tbody>\n",
       "</table>\n",
       "</div>"
      ],
      "text/plain": [
       "                         scores    coeffs\n",
       "dept_sales             0.514392  0.189847\n",
       "dept_marketing         0.513172  0.184516\n",
       "dept_customer_service  0.512310 -0.066430\n",
       "dept_engineer          0.511978 -0.110905\n",
       "salary                 0.509477  0.001396\n",
       "seniority              0.506153  0.003039\n",
       "dept_data_science      0.502561 -0.066411\n",
       "dept_design            0.499284  0.003543"
      ]
     },
     "execution_count": 136,
     "metadata": {},
     "output_type": "execute_result"
    }
   ],
   "source": [
    "scores,coeffs = fit_and_score_features(company4_survival.data_x_numeric.to_numpy(), company4_survival.data_y)\n",
    "pd.DataFrame({\"scores\":scores,\"coeffs\":coeffs}, index=company4_survival.data_x_numeric.columns).sort_values(by=[\"scores\"],ascending=False)"
   ]
  },
  {
   "cell_type": "markdown",
   "metadata": {},
   "source": [
    "### Conclusion"
   ]
  },
  {
   "cell_type": "markdown",
   "metadata": {},
   "source": [
    "This pattern continues for all the companies.  Our model isn't terribly predictive if we analyze each company separately. Perhaps going forward I could analyze each department in a company.  Nevertheless, salary appears to be the most predictive feature.  I'd suggest we ask for salary over tenure to buttress the data set."
   ]
  },
  {
   "cell_type": "code",
   "execution_count": null,
   "metadata": {},
   "outputs": [],
   "source": []
  }
 ],
 "metadata": {
  "kernelspec": {
   "display_name": "Python 3",
   "language": "python",
   "name": "python3"
  },
  "language_info": {
   "codemirror_mode": {
    "name": "ipython",
    "version": 3
   },
   "file_extension": ".py",
   "mimetype": "text/x-python",
   "name": "python",
   "nbconvert_exporter": "python",
   "pygments_lexer": "ipython3",
   "version": "3.7.4"
  }
 },
 "nbformat": 4,
 "nbformat_minor": 2
}
